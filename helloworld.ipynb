{
 "cells": [
  {
   "cell_type": "code",
   "execution_count": null,
   "id": "bf3f6001",
   "metadata": {},
   "outputs": [
    {
     "name": "stdout",
     "output_type": "stream",
     "text": [
      "Hello, World!\n"
     ]
    }
   ],
   "source": [
    "print(\"Hello, World! 2222 3333\")"
   ]
  },
  {
   "cell_type": "code",
   "execution_count": null,
   "id": "49b8043e",
   "metadata": {},
   "outputs": [],
   "source": []
  }
 ],
 "metadata": {
  "language_info": {
   "name": "python"
  }
 },
 "nbformat": 4,
 "nbformat_minor": 5
}
